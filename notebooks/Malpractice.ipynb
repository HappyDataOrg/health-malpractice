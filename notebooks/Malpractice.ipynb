{
 "cells": [
  {
   "cell_type": "code",
   "execution_count": 4,
   "metadata": {
    "collapsed": false
   },
   "outputs": [],
   "source": [
    "import pandas as pd\n",
    "import numpy as np\n",
    "import os, sys"
   ]
  },
  {
   "cell_type": "code",
   "execution_count": 10,
   "metadata": {
    "collapsed": false
   },
   "outputs": [],
   "source": [
    "os.chdir(\"/users/m/Dev/Data/datasets\")\n",
    "sys.path.append('/Users/m/dev/HappyData/healthdata-explore/modules')"
   ]
  },
  {
   "cell_type": "code",
   "execution_count": 5,
   "metadata": {
    "collapsed": false
   },
   "outputs": [
    {
     "name": "stderr",
     "output_type": "stream",
     "text": [
      "//anaconda/lib/python2.7/site-packages/IPython/core/interactiveshell.py:2902: DtypeWarning: Columns (9,10,11,12,15,16,19,23,24,30,35,38,40,43,44,47,48,52,53,57,64,66,68) have mixed types. Specify dtype option on import or set low_memory=False.\n",
      "  interactivity=interactivity, compiler=compiler, result=result)\n"
     ]
    }
   ],
   "source": [
    "# read the full NPDB malpractice dataset\n",
    "dt = pd.read_csv(\"enigma-us.gov.hhs.npdb.report-full.csv\")#,nrows=9999)"
   ]
  },
  {
   "cell_type": "code",
   "execution_count": 140,
   "metadata": {
    "collapsed": false
   },
   "outputs": [
    {
     "name": "stdout",
     "output_type": "stream",
     "text": [
      "Read 898,901 rows from source\n"
     ]
    }
   ],
   "source": [
    "malp = dt[['alegatn1_text','outcome_text','pyrrltns_text','homestat','ptgender',\n",
    "'paytype',\n",
    "'grad',\n",
    "'workstat',\n",
    "'ptage_text',\n",
    "'licnfeld_text',           \n",
    "'origyear',\n",
    "'npmalrpt',\n",
    "'alegatn2_text',\n",
    "'malyear2',\n",
    "'payment',\n",
    "'licnstat',\n",
    "'malyear1',\n",
    "'ptage',\n",
    "'practage',\n",
    "'algnnatr_text',\n",
    "'totalpmt',\n",
    "'rectype'   ,\n",
    "'aaclass1_text',          \n",
    "   'serialid' ]]\n",
    "datacount=len(malp.index)\n",
    "print \"Read {0:,} rows from source\".format(datacount)"
   ]
  },
  {
   "cell_type": "code",
   "execution_count": 4,
   "metadata": {
    "collapsed": false
   },
   "outputs": [
    {
     "data": {
      "text/plain": [
       "30     Under 1 year\n",
       "284    Under 1 year\n",
       "309    Under 1 year\n",
       "Name: ptage_text, dtype: object"
      ]
     },
     "execution_count": 4,
     "metadata": {},
     "output_type": "execute_result"
    }
   ],
   "source": [
    "## review column values and mappings\n",
    "malp[ ['ptage','ptage_text'] ]\n",
    "malp[ malp.ptage==0]['ptage_text'].head(3)"
   ]
  },
  {
   "cell_type": "code",
   "execution_count": 141,
   "metadata": {
    "collapsed": false,
    "scrolled": true
   },
   "outputs": [],
   "source": [
    "malp.rename(columns={'licnfeld_text':'doctype','practage':'docage','outcome_text':'outcome',\n",
    "                     'aaclass1_text':'aatype', 'payment':'partpmt'},inplace=True)\n",
    "malp.rename(columns={'alegatn1_text':'allegation1','alegatn2_text':'allegation2'},inplace=True)\n",
    "\n",
    "#malp.columns"
   ]
  },
  {
   "cell_type": "markdown",
   "metadata": {},
   "source": [
    "## Basic summary stats by column"
   ]
  },
  {
   "cell_type": "code",
   "execution_count": 159,
   "metadata": {
    "collapsed": false
   },
   "outputs": [],
   "source": [
    "# reload fresh module if needed\n",
    "if 'pandasHelper' in sys.modules:\n",
    "    del sys.modules['pandasHelper']\n",
    "\n",
    "import pandasHelper as ph"
   ]
  },
  {
   "cell_type": "code",
   "execution_count": 139,
   "metadata": {
    "collapsed": false
   },
   "outputs": [],
   "source": [
    "#ph.printColumnCounts(dt,\"licnfeld_text\",70)\n",
    "#dt.groupby(['licnfeld_text'])['licnfeld_text'].agg(['count']).reset_index().to_csv(\"doctypes.csv\")\n",
    "\n",
    "## MISC FINDINGS ##\n",
    "\n",
    "-- oddly, no separate information for Ob/Gyn doctors\n"
   ]
  },
  {
   "cell_type": "code",
   "execution_count": 142,
   "metadata": {
    "collapsed": false
   },
   "outputs": [
    {
     "name": "stdout",
     "output_type": "stream",
     "text": [
      "> Value distribution for: ptage\n",
      "       count     pct\n",
      "NaN  782,087  87.00%\n",
      " 40   22,811   2.54%\n",
      " 50   21,536   2.40%\n",
      " 30   18,230   2.03%\n",
      " 60   14,561   1.62%\n",
      " 20   10,478   1.17%\n",
      " 70    8,720   0.97%\n",
      " 0     6,611   0.74%\n",
      " 10    5,309   0.59%\n",
      " 1     3,256   0.36%\n",
      " 80    2,975   0.33%\n",
      "-1     2,021   0.22%\n",
      " 90      306   0.03%\n",
      "\n",
      "> Value distribution for: doctype\n",
      "                                                      count     pct\n",
      "Allopathic Physician (MD)                           370,988  41.27%\n",
      "Registered (RN) Nurse                               140,075  15.58%\n",
      "LPN or Vocational Nurse                              87,390   9.72%\n",
      "Dentist                                              72,312   8.04%\n",
      "Nurses Aide                                          40,986   4.56%\n",
      "Osteopathic Physician (DO)                           27,483   3.06%\n",
      "Pharmacist                                           24,710   2.75%\n",
      "Chiropractor                                         17,851   1.99%\n",
      "Certified Nurse Aide/Nursing Assistant [availab...   16,803   1.87%\n",
      "Podiatrist                                           10,743   1.20%\n",
      "Pharmacy Technician [available 9/9/2002]              9,523   1.06%\n",
      "Clinical Social Worker                                6,062   0.67%\n",
      "Phys. Asst. Allopathic                                4,814   0.54%\n",
      "Physical Therapist                                    4,806   0.53%\n",
      "Prof. Counselor                                       4,642   0.52%\n",
      "Respiratory Therapist                                 4,458   0.50%\n",
      "Home Health Aide (Homemaker)                          4,189   0.47%\n",
      "Massage Therapist                                     3,493   0.39%\n",
      "Psychologist [available 9/9/02]                       3,038   0.34%\n",
      "EMT Basic                                             2,942   0.33%\n",
      "Phys. Intern/Resident (MD)                            2,790   0.31%\n",
      "Optometrist                                           2,690   0.30%\n",
      "Nurse Practitioner                                    2,402   0.27%\n",
      "Clinical Psychologist [last use 9/9/02]               2,246   0.25%\n",
      "Prof. Cnslr Substance Abuse                           2,222   0.25%\n",
      "\n",
      "> Value distribution for: outcome\n",
      "                                               count     pct\n",
      "NaN                                          775,250  86.24%\n",
      "Death                                         34,738   3.86%\n",
      "Minor Temporary Injury                        18,033   2.01%\n",
      "Significant Permanent Injury                  16,960   1.89%\n",
      "Minor Permanent Injury                        16,110   1.79%\n",
      "Major Temporary Injury                        12,354   1.37%\n",
      "Major Permanent Injury                        11,757   1.31%\n",
      "Quadriplegic Brain Damage Lifelong Care        5,595   0.62%\n",
      "Insignificant Injury                           3,822   0.43%\n",
      "Emotional Injury Only                          2,616   0.29%\n",
      "Cannot Be Determined from Available Records    1,666   0.19%\n",
      "\n",
      "> Value distribution for: rectype\n",
      "       count     pct\n",
      "C    471,326  52.43%\n",
      "M    250,692  27.89%\n",
      "P    123,651  13.76%\n",
      "A     52,906   5.89%\n",
      "NaN      326   0.04%\n",
      "\n"
     ]
    }
   ],
   "source": [
    "# by age of the patient\n",
    "ph.printColumnCounts(malp,\"ptage\")\n",
    "# age=1 (child)\n",
    "# age=0 (baby)\n",
    "# age=-1 (fetus)\n",
    "# lots of NaN\n",
    "\n",
    "# by doctor's specialization\n",
    "ph.printColumnCounts(malp,\"doctype\",25)\n",
    "\n",
    "# by alleged outcome\n",
    "# TODO: drop records with really low counts, and likely missing other data\n",
    "ph.printColumnCounts(malp,\"outcome\")\n",
    "\n",
    "# by action type\n",
    "# M+P   = malpractice\n",
    "# A + C = adverse action\n",
    "ph.printColumnCounts(malp,\"rectype\")\n",
    "\n"
   ]
  },
  {
   "cell_type": "code",
   "execution_count": 160,
   "metadata": {
    "collapsed": false
   },
   "outputs": [
    {
     "name": "stdout",
     "output_type": "stream",
     "text": [
      "Mapping: Allopathic Physician (MD) -> Physician\n",
      "Mapping: Registered (RN) Nurse -> Nurse\n",
      "Mapping: LPN or Vocational Nurse -> Nurse\n",
      "Mapping: Dentist -> Dentist\n",
      "Mapping: Nurses Aide -> Nurse\n",
      "Mapping: Osteopathic Physician (DO) -> Osteopath\n",
      "Mapping: Pharmacist -> Pharmacist\n",
      "Mapping: Chiropractor -> Chiropractor\n",
      "Mapping: Certified Nurse Aide/Nursing Assistant [availab... -> Nurse\n",
      "Mapping: Podiatrist -> Podiatrist\n",
      "Mapping: Pharmacy Technician [available 9/9/2002] -> Pharmacist\n",
      "Mapping: Clinical Social Worker -> Social Worker\n",
      "Mapping: Phys. Asst. Allopathic -> Physician Asst\n",
      "Mapping: Physical Therapist -> PT\n",
      "Mapping: Prof. Counselor -> Counselor\n",
      "Mapping: Respiratory Therapist -> Resp Care\n",
      "Mapping: Massage Therapist -> PT\n",
      "Mapping: Psychologist [available 9/9/02] -> Psychologist\n",
      "Mapping: Phys. Intern/Resident (MD) -> Physician\n",
      "Mapping: Nurse Practitioner -> Nurse\n",
      "Mapping: Clinical Psychologist [last use 9/9/02] -> Psychologist\n",
      "Mapping: Prof. Cnslr Substance Abuse -> Counselor\n"
     ]
    },
    {
     "name": "stderr",
     "output_type": "stream",
     "text": [
      "/Users/m/dev/HappyData/healthdata-explore/modules/pandasHelper.py:54: SettingWithCopyWarning: \n",
      "A value is trying to be set on a copy of a slice from a DataFrame.\n",
      "Try using .loc[row_indexer,col_indexer] = value instead\n",
      "\n",
      "See the caveats in the documentation: http://pandas.pydata.org/pandas-docs/stable/indexing.html#indexing-view-versus-copy\n"
     ]
    }
   ],
   "source": [
    "ph.remapColumn(mp,'doctype','malp_map_doctype.csv')"
   ]
  },
  {
   "cell_type": "code",
   "execution_count": 144,
   "metadata": {
    "collapsed": false
   },
   "outputs": [
    {
     "name": "stdout",
     "output_type": "stream",
     "text": [
      "> Value distribution for: doctype\n",
      "                  count     pct\n",
      "Physician       373,778  41.58%\n",
      "Nurse           270,853  30.13%\n",
      "Dentist          72,312   8.04%\n",
      "Other            55,867   6.22%\n",
      "Pharmacist       34,233   3.81%\n",
      "Osteopath        27,483   3.06%\n",
      "Chiropractor     17,851   1.99%\n",
      "Podiatrist       10,743   1.20%\n",
      "PT                8,299   0.92%\n",
      "Counselor         6,864   0.76%\n",
      "Social Worker     6,062   0.67%\n",
      "Psychologist      5,284   0.59%\n",
      "Physician Asst    4,814   0.54%\n",
      "Resp Care         4,458   0.50%\n",
      "\n"
     ]
    }
   ],
   "source": [
    "ph.printColumnCounts(malp,\"doctype\",25)\n"
   ]
  },
  {
   "cell_type": "markdown",
   "metadata": {},
   "source": [
    "## Examine the anomalies"
   ]
  },
  {
   "cell_type": "code",
   "execution_count": 173,
   "metadata": {
    "collapsed": false
   },
   "outputs": [
    {
     "name": "stdout",
     "output_type": "stream",
     "text": [
      "> Value distribution for: doctype\n",
      "                count     pct\n",
      "Physician       1,717  84.96%\n",
      "Osteopath         121   5.99%\n",
      "Nurse              95   4.70%\n",
      "Other              86   4.26%\n",
      "Physician Asst      1   0.05%\n",
      "PT                  1   0.05%\n",
      "\n"
     ]
    }
   ],
   "source": [
    "# by doctor's specialization - for pre-birth only\n",
    "ph.printColumnCounts(malpPmts[malpPmts.ptage==-1],\"doctype\",25)\n"
   ]
  },
  {
   "cell_type": "markdown",
   "metadata": {
    "collapsed": false
   },
   "source": [
    "## Let's clean the data"
   ]
  },
  {
   "cell_type": "code",
   "execution_count": 145,
   "metadata": {
    "collapsed": false
   },
   "outputs": [
    {
     "name": "stdout",
     "output_type": "stream",
     "text": [
      "> Value distribution for: rectype\n",
      "             count     pct\n",
      "AdvAction  524,232  58.34%\n",
      "Payment    374,343  41.66%\n",
      "\n"
     ]
    },
    {
     "name": "stderr",
     "output_type": "stream",
     "text": [
      "/anaconda/lib/python2.7/site-packages/ipykernel/__main__.py:7: SettingWithCopyWarning: \n",
      "A value is trying to be set on a copy of a slice from a DataFrame\n",
      "\n",
      "See the caveats in the documentation: http://pandas.pydata.org/pandas-docs/stable/indexing.html#indexing-view-versus-copy\n"
     ]
    }
   ],
   "source": [
    "# remap the recordType to distinguish between Adverse Actions and Payments\n",
    "malp.replace({\"rectype\":{\"A\":\"AdvAction\", \"C\":\"AdvAction\", \"M\":\"Payment\", \"P\":\"Payment\"} }, inplace=True)\n",
    "\n",
    "#printColumnCounts(malp,\"rectype\")\n",
    "#malp[malp.rectype.isnull()].head(1000).to_csv(\"no_rectype.csv\")\n",
    "# 326 records with no type and no other data, so drop 'em\n",
    "malp.dropna(subset=['rectype'],inplace=True)\n",
    "\n",
    "ph.printColumnCounts(malp,\"rectype\")\n",
    "\n"
   ]
  },
  {
   "cell_type": "code",
   "execution_count": 146,
   "metadata": {
    "collapsed": false
   },
   "outputs": [
    {
     "name": "stdout",
     "output_type": "stream",
     "text": [
      "Missing state values:\n",
      "homestat    344588\n",
      "workstat    388044\n",
      "licnstat     60732\n",
      "dtype: int64\n",
      "Setting remaining values to default:  84\n"
     ]
    }
   ],
   "source": [
    "# analyze different states available\n",
    "print \"Missing state values:\\n\", malp[['homestat','workstat','licnstat']].isnull().sum()\n",
    "# fill in missing data in this order\n",
    "# workstat, licnstat, homestat (pract.work state, licensed, home)\n",
    "nostate = malp['workstat'].isnull()\n",
    "malp.loc[nostate,'workstat'] = malp.loc[nostate,'licnstat']\n",
    "nostate = malp['workstat'].isnull()\n",
    "malp.loc[nostate,'workstat'] = malp.loc[nostate,'homestat']\n",
    "nostate = malp['workstat'].isnull()\n",
    "print \"Setting remaining values to default: \", nostate.sum()\n",
    "malp.loc[nostate,'workstat'] = 'NO' # last measure"
   ]
  },
  {
   "cell_type": "code",
   "execution_count": 147,
   "metadata": {
    "collapsed": false
   },
   "outputs": [
    {
     "name": "stdout",
     "output_type": "stream",
     "text": [
      "Column: \"origyear\" missing values: 0 (0.0%)\n",
      "\n",
      "- Filling with 0\n"
     ]
    }
   ],
   "source": [
    "# check the year data\n",
    "ph.showStatsMissing(malp,\"origyear\")\n",
    "print \"- Filling with 0\"\n",
    "malp.origyear.fillna(0, inplace=True)\n",
    "\n",
    "# other fields are not helping to impute year, they are also NaN\n",
    "#malp[malp.origyear.isnull()][ ['origyear','malyear1','malyear2', 'npmalrpt', 'grad']]\n",
    "#"
   ]
  },
  {
   "cell_type": "code",
   "execution_count": 148,
   "metadata": {
    "collapsed": false,
    "scrolled": true
   },
   "outputs": [
    {
     "name": "stdout",
     "output_type": "stream",
     "text": [
      "Column: \"partpmt\" missing values: 26 (0.0%)\n",
      "\n",
      "Column: \"totalpmt\" missing values: 250,692 (67.0%)\n",
      "\n"
     ]
    },
    {
     "data": {
      "text/html": [
       "<div>\n",
       "<table border=\"1\" class=\"dataframe\">\n",
       "  <thead>\n",
       "    <tr style=\"text-align: right;\">\n",
       "      <th></th>\n",
       "      <th>partpmt</th>\n",
       "      <th>totalpmt</th>\n",
       "    </tr>\n",
       "  </thead>\n",
       "  <tbody>\n",
       "    <tr>\n",
       "      <th>0</th>\n",
       "      <td>195000</td>\n",
       "      <td>NaN</td>\n",
       "    </tr>\n",
       "    <tr>\n",
       "      <th>1</th>\n",
       "      <td>12500</td>\n",
       "      <td>NaN</td>\n",
       "    </tr>\n",
       "    <tr>\n",
       "      <th>2</th>\n",
       "      <td>185000</td>\n",
       "      <td>NaN</td>\n",
       "    </tr>\n",
       "    <tr>\n",
       "      <th>3</th>\n",
       "      <td>1500</td>\n",
       "      <td>NaN</td>\n",
       "    </tr>\n",
       "    <tr>\n",
       "      <th>4</th>\n",
       "      <td>22500</td>\n",
       "      <td>22500</td>\n",
       "    </tr>\n",
       "  </tbody>\n",
       "</table>\n",
       "</div>"
      ],
      "text/plain": [
       "   partpmt  totalpmt\n",
       "0   195000       NaN\n",
       "1    12500       NaN\n",
       "2   185000       NaN\n",
       "3     1500       NaN\n",
       "4    22500     22500"
      ]
     },
     "execution_count": 148,
     "metadata": {},
     "output_type": "execute_result"
    }
   ],
   "source": [
    "# check the payments info\n",
    "# NOTE: we've discovered that a large number of records only pertain to Adverse Action against the\n",
    "# practitioner, so no payment amount is expected\n",
    "ph.showStatsMissing(malp[malp.rectype==\"Payment\"],\"partpmt\")\n",
    "ph.showStatsMissing(malp[malp.rectype==\"Payment\"],\"totalpmt\")\n",
    "\n",
    "malp[['partpmt','totalpmt']].head()\n",
    "#print \"Filling total pmt with 'payment'\"\n",
    "#malp1.totalpmt.fillna(malp1.payment,inplace=True)\n",
    "#print \"Missing total pmt: \",(malp1['totalpmt'].isnull().sum()), \"total:\", malp1['totalpmt'].sum()"
   ]
  },
  {
   "cell_type": "code",
   "execution_count": 149,
   "metadata": {
    "collapsed": false
   },
   "outputs": [
    {
     "name": "stdout",
     "output_type": "stream",
     "text": [
      "Filling total pmt with 'partpmt'\n",
      "Records with payment <=0:  0\n"
     ]
    }
   ],
   "source": [
    "# fix the payment data\n",
    "print \"Filling total pmt with 'partpmt'\"\n",
    "malp.totalpmt.fillna(malp.partpmt,inplace=True)\n",
    "\n",
    "# add 0's instead of NaN\n",
    "malp.totalpmt.fillna(0,inplace=True)\n",
    "\n",
    "# check for bad data, 0 or -ve payments\n",
    "print \"Records with payment <=0: \",(malp['totalpmt']<0).sum()"
   ]
  },
  {
   "cell_type": "code",
   "execution_count": 150,
   "metadata": {
    "collapsed": false
   },
   "outputs": [
    {
     "name": "stdout",
     "output_type": "stream",
     "text": [
      "Sum by partpmt 80,854,770,700.0\n",
      "Sum by totalpmt 82,424,951,250.0\n"
     ]
    }
   ],
   "source": [
    "print \"Sum by partpmt {0:,}\".format(malp['partpmt'].sum())\n",
    "print \"Sum by totalpmt {0:,}\".format(malp['totalpmt'].sum())"
   ]
  },
  {
   "cell_type": "markdown",
   "metadata": {},
   "source": [
    "### Rename key columns for easier analysis and split data set into payment/adv action"
   ]
  },
  {
   "cell_type": "code",
   "execution_count": 151,
   "metadata": {
    "collapsed": false
   },
   "outputs": [
    {
     "name": "stderr",
     "output_type": "stream",
     "text": [
      "/anaconda/lib/python2.7/site-packages/ipykernel/__main__.py:8: SettingWithCopyWarning: \n",
      "A value is trying to be set on a copy of a slice from a DataFrame\n",
      "\n",
      "See the caveats in the documentation: http://pandas.pydata.org/pandas-docs/stable/indexing.html#indexing-view-versus-copy\n"
     ]
    }
   ],
   "source": [
    "malp.rename(columns={'workstat':'state', 'totalpmt':'payment', 'origyear':'year'},inplace=True)\n",
    "\n",
    "# Create a new series pertaining to claims with payment\n",
    "malpPmts = malp[malp.rectype==\"Payment\"]\n",
    "#malpPmts.head()\n",
    "malpAA = malp[malp.rectype==\"AdvAction\"]\n",
    "\n",
    "malpPmts.dropna(subset=['payment'],inplace=True)\n",
    "\n",
    "\n"
   ]
  },
  {
   "cell_type": "code",
   "execution_count": 152,
   "metadata": {
    "collapsed": false
   },
   "outputs": [
    {
     "name": "stdout",
     "output_type": "stream",
     "text": [
      "Column: \"allegation1\" missing values: 171 (0.0%)\n",
      "\n",
      "Column: \"allegation1\" missing values: 524,232 (100.0%)\n",
      "\n",
      "Column: \"allegation2\" missing values: 316,967 (84.7%)\n",
      "\n",
      "> Value distribution for: allegation1\n",
      "                                                     count     pct\n",
      "Allegation – Not Otherwise Classified Specify       82,412  22.02%\n",
      "Failure to Diagnose                                 60,076  16.05%\n",
      "Improper Performance                                47,204  12.61%\n",
      "Improper Management                                 25,772   6.88%\n",
      "Delay in Diagnosis                                  22,273   5.95%\n",
      "Improper Technique                                  22,073   5.90%\n",
      "Wrong or Misdiagnosis (e.g. Original Diagnosis ...  10,873   2.90%\n",
      "Failure to Treat                                     7,742   2.07%\n",
      "Surgical or Other Foreign Body Retained              6,747   1.80%\n",
      "Delay in Treatment                                   6,372   1.70%\n",
      "\n"
     ]
    }
   ],
   "source": [
    "# NOTE: allegation1 is set only for (most) claims with payment award\n",
    "ph.showStatsMissing(malpPmts,\"allegation1\")\n",
    "ph.showStatsMissing(malpAA,\"allegation1\")\n",
    "\n",
    "ph.showStatsMissing(malpPmts,\"allegation2\")\n",
    "ph.printColumnCounts(malpPmts,\"allegation1\",10)\n",
    "\n"
   ]
  },
  {
   "cell_type": "markdown",
   "metadata": {},
   "source": [
    "### Create summary tables"
   ]
  },
  {
   "cell_type": "code",
   "execution_count": 74,
   "metadata": {
    "collapsed": false
   },
   "outputs": [
    {
     "name": "stdout",
     "output_type": "stream",
     "text": [
      "    year         sum  count  min       max\n",
      "0   1990   336745850   2856   50   4450000\n",
      "1   1991  2320687700  17962    0   5250000\n",
      "2   1992  2764114150  19758   50  13500000\n",
      "3   1993  2886276450  19403    0  18500000\n",
      "4   1994  3000798600  19626    0  12500000\n",
      "5   1995  2922797500  17914    0   9350000\n",
      "6   1996  3414540100  19143   50   7350000\n",
      "7   1997  3337433100  18191   50  15500000\n",
      "8   1998  3304179650  17499    0  10500000\n",
      "9   1999  3629051350  18788   50  16500000\n",
      "10  2000  4115237350  19248   50   9750000\n",
      "11  2001  4822075050  20416    0  22500000\n",
      "12  2002  4487482900  18862   50  13500000\n",
      "13  2003  4846816150  18922   50  11500000\n",
      "14  2004  4854025000  17643   50  27500000\n",
      "15  2005  4693441100  17243   50  22500000\n",
      "16  2006  4502392600  15788   50  16500000\n",
      "17  2007  4246850000  14488   50  14500000\n",
      "18  2008  4193403850  14114   50  15500000\n",
      "19  2009  4073909450  13857   50  18500000\n",
      "20  2010  3855145900  13239   50  22500000\n",
      "21  2011  3841899100  12879   50  16500000\n",
      "22  2012  1975648350   6504   50  14500000\n"
     ]
    }
   ],
   "source": [
    "\n",
    "# create summary a table by year. reset numeric index\n",
    "# NOTE: we have values for year 0, but no payment details\n",
    "pmtByYear = malpPmts.groupby('year')['payment'].agg(['sum', 'count','min','max']).reset_index()\n",
    "print pmtByYear#.head(25)"
   ]
  },
  {
   "cell_type": "code",
   "execution_count": 18,
   "metadata": {
    "collapsed": false
   },
   "outputs": [],
   "source": [
    "# sample of the data we are going to be working with now\n",
    "#malp[ ['state','year','payment'].format(\"{0:,}\")"
   ]
  },
  {
   "cell_type": "code",
   "execution_count": 153,
   "metadata": {
    "collapsed": false
   },
   "outputs": [
    {
     "name": "stdout",
     "output_type": "stream",
     "text": [
      "   state  year       sum  count       min       max\n",
      "0     AA  2007 2,150,000      1 2,150,000 2,150,000\n",
      "1     AE  1992    23,750      2     6,250    17,500\n",
      "2     AE  1993 2,377,800      8       300 1,850,000\n",
      "3     AE  1996   448,750      4     6,250   285,000\n",
      "4     AE  1997   412,500      3    72,500   195,000\n",
      "5     AE  1999   195,000      1   195,000   195,000\n",
      "6     AE  2001   957,500      5    47,500   325,000\n",
      "7     AE  2003   150,000      3    12,500   125,000\n",
      "8     AE  2004   145,000      1   145,000   145,000\n",
      "9     AE  2005   740,000      3    47,500   645,000\n",
      "10    AE  2006   185,000      2    87,500    97,500\n",
      "11    AE  2007   980,000      2   245,000   735,000\n",
      "12    AE  2008    12,500      1    12,500    12,500\n",
      "13    AE  2009   130,000      2    32,500    97,500\n",
      "14    AE  2010   595,000      1   595,000   595,000\n",
      "15    AE  2012   860,000      4   215,000   215,000\n",
      "16    AK  1991 3,403,250     17     1,500 1,850,000\n",
      "17    AK  1992 3,236,750     31     2,500   775,000\n",
      "18    AK  1993 4,453,550     34       300   895,000\n",
      "19    AK  1994 2,382,000     28       750   745,000\n",
      "Number of states (including NO):  62\n"
     ]
    }
   ],
   "source": [
    "# create summary a table by state. reset numeric index\n",
    "pmtByStateYear = malpPmts.groupby(['state','year'])['payment'].agg(['sum', 'count','min','max']).reset_index()\n",
    "#pmtByStateYear\n",
    "fmtCommas='{:,.0f}'.format\n",
    "# TODO: function that takes a list of columns to format this way\n",
    "print pmtByStateYear.head(20).to_string(formatters={'sum':fmtCommas,'min':fmtCommas,'max':fmtCommas})\n",
    "\n",
    "# roll up to states\n",
    "pmtByState = pmtByStateYear.groupby('state')['sum'].sum().reset_index()\n",
    "# NOTE: we have 62 states (w/o NO) - how to validate? what are the extras?\n",
    "print \"Number of states (including NO): \", len(pmtByState)"
   ]
  },
  {
   "cell_type": "code",
   "execution_count": 80,
   "metadata": {
    "collapsed": false
   },
   "outputs": [],
   "source": [
    "# first and last years look much smaller than the adjacent ones, so we'll remove 1990 and 2012\n",
    "# from the charts - data may be incomplete\n",
    "pmtByYear=pmtByYear[pmtByYear.year>1990]\n",
    "pmtByYear=pmtByYear[pmtByYear.year<2012]\n",
    "pmtByStateYear=pmtByStateYear[pmtByStateYear.year>1990]\n",
    "pmtByStateYear=pmtByStateYear[pmtByStateYear.year<2012]\n",
    "\n",
    "\n",
    "#print pmtByYear"
   ]
  },
  {
   "cell_type": "code",
   "execution_count": 81,
   "metadata": {
    "collapsed": false
   },
   "outputs": [],
   "source": [
    "# create a sorted list of payments by state\n",
    "topStates=pmtByState.sort_values(by=['sum'],ascending=[False]).reset_index()\n",
    "topStates.rename(columns={'workstat':'state','sum':'amount'},inplace=True)\n",
    "#topStates"
   ]
  },
  {
   "cell_type": "code",
   "execution_count": 124,
   "metadata": {
    "collapsed": false
   },
   "outputs": [],
   "source": [
    "pmtByStateYearType = malp.groupby(['state','year','doctype','rectype'])['payment'].agg(['sum', 'count','min','max']).reset_index()\n",
    "pmtByStateYearType.rename(columns={'sum':'amount'},inplace=True)"
   ]
  },
  {
   "cell_type": "code",
   "execution_count": 111,
   "metadata": {
    "collapsed": false
   },
   "outputs": [
    {
     "name": "stdout",
     "output_type": "stream",
     "text": [
      "> Value distribution for: year\n",
      "      count    pct\n",
      "2011  1,089  5.69%\n",
      "2010  1,038  5.42%\n",
      "2006  1,021  5.33%\n",
      "2009  1,018  5.32%\n",
      "2007  1,009  5.27%\n",
      "2008  1,003  5.24%\n",
      "2000    998  5.21%\n",
      "2003    981  5.13%\n",
      "2002    975  5.09%\n",
      "2005    970  5.07%\n",
      "2004    962  5.03%\n",
      "2001    949  4.96%\n",
      "2012    932  4.87%\n",
      "1997    811  4.24%\n",
      "1999    810  4.23%\n",
      "1998    740  3.87%\n",
      "1994    601  3.14%\n",
      "1991    597  3.12%\n",
      "1992    595  3.11%\n",
      "1993    593  3.10%\n",
      "1995    573  2.99%\n",
      "1996    571  2.98%\n",
      "1990    304  1.59%\n",
      "\n"
     ]
    }
   ],
   "source": [
    "#malp[malp.year<1990]['year']\n",
    "ph.printColumnCounts(pmtByStateYearType, \"year\")"
   ]
  },
  {
   "cell_type": "code",
   "execution_count": 85,
   "metadata": {
    "collapsed": false
   },
   "outputs": [
    {
     "name": "stdout",
     "output_type": "stream",
     "text": [
      "Sum by year 80,112,557,050.0\n",
      "Sum by state-year 80,112,557,050.0\n"
     ]
    }
   ],
   "source": [
    "print \"Sum by year {0:,}\".format(pmtByYear['sum'].sum())\n",
    "print \"Sum by state-year {0:,}\".format(pmtByStateYear['sum'].sum())"
   ]
  },
  {
   "cell_type": "code",
   "execution_count": 169,
   "metadata": {
    "collapsed": false
   },
   "outputs": [
    {
     "name": "stdout",
     "output_type": "stream",
     "text": [
      "Top payments over time\n",
      "   state  year    doctype   payment  ptage\n",
      "0     FL  2004  Physician  27500000      0\n",
      "1     TX  2001  Physician  22500000    NaN\n",
      "2     IA  2004  Osteopath  22500000      0\n",
      "3     MN  2001      Nurse  22500000    NaN\n",
      "4     TX  2001      Nurse  22500000    NaN\n",
      "5     TX  2005  Physician  22500000     50\n",
      "6     WI  2010  Physician  22500000     -1\n",
      "7     TX  2001      Nurse  22500000    NaN\n",
      "8     TX  2001  Physician  19500000    NaN\n",
      "9     WI  1993  Physician  18500000    NaN\n",
      "10    WI  2009      Other  18500000     -1\n",
      "11    WI  2010  Physician  16500000      1\n",
      "12    IL  2011      Nurse  16500000     40\n",
      "13    TX  2004  Physician  16500000     20\n",
      "14    IL  2006  Physician  16500000      0\n",
      "15    IL  2011      Nurse  16500000     40\n",
      "16    PA  1999  Physician  16500000    NaN\n",
      "17    IL  2006  Physician  15500000     -1\n",
      "18    IL  2008      Nurse  15500000     30\n",
      "19    WI  1997  Physician  15500000    NaN\n"
     ]
    }
   ],
   "source": [
    "# largest payments\n",
    "#topPayments = malpPmts.sort_values(by=['payment'],ascending=[False]).reset_index().head(20)\n",
    "#print topPayments.columns\n",
    "print \"Top payments over time\\n\", topPayments[['state','year','doctype','payment','ptage']]"
   ]
  },
  {
   "cell_type": "markdown",
   "metadata": {},
   "source": [
    "## Output results into a file"
   ]
  },
  {
   "cell_type": "code",
   "execution_count": 125,
   "metadata": {
    "collapsed": false
   },
   "outputs": [],
   "source": [
    "# map year and amount to integers (for ease of analysis in Tableau and remove first and last incomplete years)\n",
    "pmtByStateYearType['year']=pmtByStateYearType['year'].map(int)\n",
    "pmtByStateYearType['amount']=pmtByStateYearType['amount'].map(int)\n",
    "\n",
    "pmtByStateYearType=pmtByStateYearType[pmtByStateYearType.year<2012]\n",
    "pmtByStateYearType=pmtByStateYearType[pmtByStateYearType.year>1990]\n",
    "\n",
    "pmtByStateYearType.to_csv(\"malpractice_history.csv\")"
   ]
  },
  {
   "cell_type": "code",
   "execution_count": 155,
   "metadata": {
    "collapsed": false
   },
   "outputs": [
    {
     "name": "stdout",
     "output_type": "stream",
     "text": [
      "    index         doctype          sum   count           mean  median\n",
      "0      12       Resp Care     18617300      49  379944.897959  195000\n",
      "1       8       Physician  70861263050  275735  256990.454784  125000\n",
      "2       4       Osteopath   4096394250   17807  230044.041669  115000\n",
      "3       5           Other   1438523750    5747  250308.639290   92500\n",
      "4       9  Physician Asst    325679850    1743  186850.172117   87500\n",
      "5       3           Nurse   2089961100    7915  264050.675932   72500\n",
      "6      10      Podiatrist    825606500    7726  106860.794719   52500\n",
      "7      11    Psychologist    132597750    1239  107019.975787   42500\n",
      "8       1       Counselor     20050350     234   85685.256410   32500\n",
      "9      13   Social Worker     22327300     208  107342.788462   27500\n",
      "10      0    Chiropractor    437397950    5869   74526.827398   22500\n",
      "11      6              PT     68710250    1193   57594.509640   17500\n",
      "12      2         Dentist   1978069850   46962   42120.647545   12500\n",
      "13      7      Pharmacist    109752000    1916   57281.837161    6250\n"
     ]
    }
   ],
   "source": [
    "pmtByDoctype = malp[malp.rectype=='Payment'].groupby(['doctype'])['payment'].agg(['sum', 'count','mean','median']).reset_index()\n",
    "\n",
    "print pmtByDoctype.sort_values(by=['median'],ascending=[False]).reset_index()\n",
    "pmtByDoctype.to_csv(\"malpractice_byDoctype.csv\")"
   ]
  },
  {
   "cell_type": "markdown",
   "metadata": {},
   "source": [
    "## Simple visualizations using Seaborn "
   ]
  },
  {
   "cell_type": "code",
   "execution_count": 76,
   "metadata": {
    "collapsed": false
   },
   "outputs": [
    {
     "name": "stderr",
     "output_type": "stream",
     "text": [
      "//anaconda/lib/python2.7/site-packages/matplotlib/__init__.py:872: UserWarning: axes.color_cycle is deprecated and replaced with axes.prop_cycle; please use the latter.\n",
      "  warnings.warn(self.msg_depr % (key, alt_key))\n"
     ]
    }
   ],
   "source": [
    "%matplotlib inline\n",
    "import matplotlib.pyplot as plt\n",
    "import seaborn as sns"
   ]
  },
  {
   "cell_type": "code",
   "execution_count": 86,
   "metadata": {
    "collapsed": false
   },
   "outputs": [
    {
     "name": "stdout",
     "output_type": "stream",
     "text": [
      "Top states (all years)\n"
     ]
    },
    {
     "name": "stderr",
     "output_type": "stream",
     "text": [
      "//anaconda/lib/python2.7/site-packages/matplotlib/__init__.py:892: UserWarning: axes.color_cycle is deprecated and replaced with axes.prop_cycle; please use the latter.\n",
      "  warnings.warn(self.msg_depr % (key, alt_key))\n"
     ]
    },
    {
     "data": {
      "image/png": "[encoded data removed]",
      "text/plain": [
       "<matplotlib.figure.Figure at 0x105a63650>"
      ]
     },
     "metadata": {},
     "output_type": "display_data"
    }
   ],
   "source": [
    "print \"Top states (all years)\"\n",
    "sns.barplot(x=\"state\", y=\"amount\", data=topStates);"
   ]
  },
  {
   "cell_type": "code",
   "execution_count": 87,
   "metadata": {
    "collapsed": false
   },
   "outputs": [
    {
     "name": "stdout",
     "output_type": "stream",
     "text": [
      "Plot of payments by year\n"
     ]
    },
    {
     "data": {
      "image/png": "[encoded data removed]",
      "text/plain": [
       "<matplotlib.figure.Figure at 0x11165cd90>"
      ]
     },
     "metadata": {},
     "output_type": "display_data"
    }
   ],
   "source": [
    "print \"Plot of payments by year\"\n",
    "sns.pointplot(x=\"year\", y=\"sum\", data=pmtByYear.sort_values(by=['year'],ascending=[True]));"
   ]
  },
  {
   "cell_type": "code",
   "execution_count": 90,
   "metadata": {
    "collapsed": false
   },
   "outputs": [
    {
     "name": "stdout",
     "output_type": "stream",
     "text": [
      "Plot of payments by state\n"
     ]
    },
    {
     "data": {
      "image/png": "[encoded data removed]",
      "text/plain": [
       "<matplotlib.figure.Figure at 0x11160ba90>"
      ]
     },
     "metadata": {},
     "output_type": "display_data"
    }
   ],
   "source": [
    "print \"Plot of payments by state\"\n",
    "sns.barplot(x=\"state\", y=\"payment\", data=malp);"
   ]
  },
  {
   "cell_type": "code",
   "execution_count": 91,
   "metadata": {
    "collapsed": false,
    "scrolled": true
   },
   "outputs": [
    {
     "data": {
      "text/plain": [
       "<matplotlib.axes._subplots.AxesSubplot at 0x118fff9d0>"
      ]
     },
     "execution_count": 91,
     "metadata": {},
     "output_type": "execute_result"
    },
    {
     "data": {
      "image/png": "[encoded data removed]",
      "text/plain": [
       "<matplotlib.figure.Figure at 0x118601390>"
      ]
     },
     "metadata": {},
     "output_type": "display_data"
    }
   ],
   "source": [
    "# totals for death-related allegations over time\n",
    "# TODO: use sum, instead of mean()\n",
    "sns.barplot(x=\"year\", y=\"payment\", hue=\"rectype\", data=malp[malp.outcome=='Death'])\n",
    "\n",
    "# Conclusions: \n",
    "# count and amount is fairly flat\n",
    "# data only available from 2004"
   ]
  },
  {
   "cell_type": "code",
   "execution_count": 163,
   "metadata": {
    "collapsed": false
   },
   "outputs": [
    {
     "name": "stdout",
     "output_type": "stream",
     "text": [
      "   year         sum  count   min       max\n",
      "0  2004  1300345900   4440    50   8750000\n",
      "1  2005  1485586800   4844    50  22500000\n",
      "2  2006  1365271000   4362    50   6950000\n",
      "3  2007  1289903500   4077    50   4050000\n",
      "4  2008  1328169850   4026    50  11500000\n",
      "5  2009  1251520850   3895    50   5250000\n",
      "6  2010  1218978100   3771    50   6950000\n",
      "7  2011  1151933550   3517    50   7450000\n",
      "8  2012   620969500   1806  2500   5950000\n"
     ]
    }
   ],
   "source": [
    "print malpPmts[malpPmts.outcome=='Death'].groupby('year')['payment'].agg(['sum', 'count','min','max']).reset_index()\n",
    "\n"
   ]
  },
  {
   "cell_type": "code",
   "execution_count": 155,
   "metadata": {
    "collapsed": false
   },
   "outputs": [
    {
     "name": "stdout",
     "output_type": "stream",
     "text": [
      "Plot of payments by year\n",
      "Index([u'allegation1', u'outcome', u'pyrrltns_text', u'homestat', u'ptgender',\n",
      "       u'paytype', u'grad', u'state', u'ptage_text', u'doctype', u'year',\n",
      "       u'npmalrpt', u'allegation2', u'malyear2', u'partpmt', u'licnstat',\n",
      "       u'malyear1', u'ptage', u'docage', u'algnnatr_text', u'payment',\n",
      "       u'rectype', u'aatype', u'serialid'],\n",
      "      dtype='object')\n"
     ]
    },
    {
     "data": {
      "image/png": "[encoded data removed]",
      "text/plain": [
       "<matplotlib.figure.Figure at 0x111695610>"
      ]
     },
     "metadata": {},
     "output_type": "display_data"
    }
   ],
   "source": [
    "print \"Plot of payments by year\"\n",
    "sns.boxplot(x=\"year\", y=\"payment\", data=malpPmts);"
   ]
  },
  {
   "cell_type": "markdown",
   "metadata": {},
   "source": [
    "## Try interaction with ipywidgets"
   ]
  },
  {
   "cell_type": "code",
   "execution_count": 174,
   "metadata": {
    "collapsed": false
   },
   "outputs": [
    {
     "data": {
      "image/png": "[encoded data removed]",
      "text/plain": [
       "<matplotlib.figure.Figure at 0x10d69aad0>"
      ]
     },
     "metadata": {},
     "output_type": "display_data"
    }
   ],
   "source": [
    "from ipywidgets import widgets  \n",
    "def f(x):\n",
    "    sns.barplot(x=\"state\", y=\"amount\", data=topStates.head(x));\n",
    "\n",
    "widgets.interact(f, x=15)    "
   ]
  },
  {
   "cell_type": "code",
   "execution_count": null,
   "metadata": {
    "collapsed": false
   },
   "outputs": [],
   "source": [
    "from IPython.display import display\n",
    "text=widgets.Text()\n",
    "display(text)\n",
    "\n",
    "def handle_submit(sender):\n",
    "    val = int(text.value)\n",
    "    print \"Plotting top {0} states\".format(val)\n",
    "    sns.barplot(x=\"state\", y=\"amount\", data=topStates.head(val));\n",
    "\n",
    "text.on_submit(handle_submit)"
   ]
  }
 ],
 "metadata": {
  "kernelspec": {
   "display_name": "Python 2",
   "language": "python",
   "name": "python2"
  },
  "language_info": {
   "codemirror_mode": {
    "name": "ipython",
    "version": 2
   },
   "file_extension": ".py",
   "mimetype": "text/x-python",
   "name": "python",
   "nbconvert_exporter": "python",
   "pygments_lexer": "ipython2",
   "version": "2.7.10"
  }
 },
 "nbformat": 4,
 "nbformat_minor": 0
}
