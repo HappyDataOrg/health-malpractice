{
 "cells": [
  {
   "cell_type": "code",
   "execution_count": 2,
   "metadata": {
    "collapsed": false
   },
   "outputs": [],
   "source": [
    "import pandas as pd\n",
    "import numpy as np\n",
    "import os"
   ]
  },
  {
   "cell_type": "code",
   "execution_count": 35,
   "metadata": {
    "collapsed": false
   },
   "outputs": [
    {
     "name": "stderr",
     "output_type": "stream",
     "text": [
      "//anaconda/lib/python2.7/site-packages/IPython/core/interactiveshell.py:2902: DtypeWarning: Columns (9,10,11,12,15,16,19,23,24,30,35,38,40,43,44,47,48,52,53,57,64,66,68) have mixed types. Specify dtype option on import or set low_memory=False.\n",
      "  interactivity=interactivity, compiler=compiler, result=result)\n"
     ]
    }
   ],
   "source": [
    "os.chdir(\"/users/m/Dev/Data/datasets\")\n",
    "dt = pd.read_csv(\"enigma-us.gov.hhs.npdb.report-full.csv\")#,nrows=9999)"
   ]
  },
  {
   "cell_type": "code",
   "execution_count": 39,
   "metadata": {
    "collapsed": false
   },
   "outputs": [
    {
     "data": {
      "text/plain": [
       "898901"
      ]
     },
     "execution_count": 39,
     "metadata": {},
     "output_type": "execute_result"
    }
   ],
   "source": [
    "malp1 = dt[['alegatn1_text','outcome_text','pyrrltns_text','homestat','ptgender',\n",
    "'paytype',\n",
    "'grad',\n",
    "'workstat',\n",
    "'ptage_text',\n",
    "'licnfeld_text',           \n",
    "'origyear',\n",
    "'npmalrpt',\n",
    "'alegatn2_text',\n",
    "'malyear2',\n",
    "'payment',\n",
    "'licnstat',\n",
    "'malyear1',\n",
    "'ptage',\n",
    "'practage',\n",
    "'algnnatr_text',\n",
    "'totalpmt',\n",
    "   'serialid' ]]\n",
    "len(malp1.index)"
   ]
  },
  {
   "cell_type": "code",
   "execution_count": 22,
   "metadata": {
    "collapsed": false,
    "scrolled": true
   },
   "outputs": [
    {
     "data": {
      "text/html": [
       "<div>\n",
       "<table border=\"1\" class=\"dataframe\">\n",
       "  <thead>\n",
       "    <tr style=\"text-align: right;\">\n",
       "      <th></th>\n",
       "      <th>allegation1</th>\n",
       "      <th>outcome_text</th>\n",
       "      <th>pyrrltns_text</th>\n",
       "      <th>homestat</th>\n",
       "      <th>ptgender</th>\n",
       "      <th>paytype</th>\n",
       "      <th>grad</th>\n",
       "      <th>workstat</th>\n",
       "      <th>ptage_text</th>\n",
       "      <th>licnfeld_text</th>\n",
       "      <th>...</th>\n",
       "      <th>allegation2</th>\n",
       "      <th>malyear2</th>\n",
       "      <th>payment</th>\n",
       "      <th>licnstat</th>\n",
       "      <th>malyear1</th>\n",
       "      <th>ptage</th>\n",
       "      <th>practage</th>\n",
       "      <th>algnnatr_text</th>\n",
       "      <th>totalpmt</th>\n",
       "      <th>serialid</th>\n",
       "    </tr>\n",
       "  </thead>\n",
       "  <tbody>\n",
       "    <tr>\n",
       "      <th>0</th>\n",
       "      <td>Failure to Diagnose</td>\n",
       "      <td>NaN</td>\n",
       "      <td>Insurance Company (Legacy report RECTYPE = M p...</td>\n",
       "      <td>NaN</td>\n",
       "      <td>NaN</td>\n",
       "      <td>S</td>\n",
       "      <td>1970</td>\n",
       "      <td>AZ</td>\n",
       "      <td>NaN</td>\n",
       "      <td>Allopathic Physician (MD)</td>\n",
       "      <td>...</td>\n",
       "      <td>Failure/Delay in Referral or Consultation</td>\n",
       "      <td>1996</td>\n",
       "      <td>195000</td>\n",
       "      <td>AZ</td>\n",
       "      <td>1966</td>\n",
       "      <td>NaN</td>\n",
       "      <td>10</td>\n",
       "      <td>Diagnosis Related</td>\n",
       "      <td>195000</td>\n",
       "      <td>1</td>\n",
       "    </tr>\n",
       "    <tr>\n",
       "      <th>1</th>\n",
       "      <td>Allegation – Not Otherwise Classified Specify</td>\n",
       "      <td>NaN</td>\n",
       "      <td>Insurance Company (Legacy report RECTYPE = M p...</td>\n",
       "      <td>NaN</td>\n",
       "      <td>NaN</td>\n",
       "      <td>S</td>\n",
       "      <td>1940</td>\n",
       "      <td>TX</td>\n",
       "      <td>NaN</td>\n",
       "      <td>Allopathic Physician (MD)</td>\n",
       "      <td>...</td>\n",
       "      <td>NaN</td>\n",
       "      <td>NaN</td>\n",
       "      <td>12500</td>\n",
       "      <td>TX</td>\n",
       "      <td>1987</td>\n",
       "      <td>NaN</td>\n",
       "      <td>60</td>\n",
       "      <td>Medication Related</td>\n",
       "      <td>12500</td>\n",
       "      <td>2</td>\n",
       "    </tr>\n",
       "    <tr>\n",
       "      <th>2</th>\n",
       "      <td>Failure to Diagnose</td>\n",
       "      <td>NaN</td>\n",
       "      <td>Insurance Company (Legacy report RECTYPE = M p...</td>\n",
       "      <td>CT</td>\n",
       "      <td>NaN</td>\n",
       "      <td>U</td>\n",
       "      <td>1960</td>\n",
       "      <td>CT</td>\n",
       "      <td>NaN</td>\n",
       "      <td>Allopathic Physician (MD)</td>\n",
       "      <td>...</td>\n",
       "      <td>NaN</td>\n",
       "      <td>NaN</td>\n",
       "      <td>185000</td>\n",
       "      <td>CT</td>\n",
       "      <td>1984</td>\n",
       "      <td>NaN</td>\n",
       "      <td>10</td>\n",
       "      <td>Diagnosis Related</td>\n",
       "      <td>185000</td>\n",
       "      <td>3</td>\n",
       "    </tr>\n",
       "    <tr>\n",
       "      <th>3</th>\n",
       "      <td>Surgical or Other Foreign Body Retained</td>\n",
       "      <td>NaN</td>\n",
       "      <td>Insurance Company (Legacy report RECTYPE = M p...</td>\n",
       "      <td>NaN</td>\n",
       "      <td>NaN</td>\n",
       "      <td>S</td>\n",
       "      <td>1960</td>\n",
       "      <td>NJ</td>\n",
       "      <td>NaN</td>\n",
       "      <td>Allopathic Physician (MD)</td>\n",
       "      <td>...</td>\n",
       "      <td>NaN</td>\n",
       "      <td>NaN</td>\n",
       "      <td>1500</td>\n",
       "      <td>NJ</td>\n",
       "      <td>1993</td>\n",
       "      <td>NaN</td>\n",
       "      <td>50</td>\n",
       "      <td>Surgery Related</td>\n",
       "      <td>1500</td>\n",
       "      <td>4</td>\n",
       "    </tr>\n",
       "    <tr>\n",
       "      <th>4</th>\n",
       "      <td>Failure to Perform Procedure</td>\n",
       "      <td>Death</td>\n",
       "      <td>Self-Insured Organization (RECTYPE = P 1/31/20...</td>\n",
       "      <td>MO</td>\n",
       "      <td>M</td>\n",
       "      <td>S</td>\n",
       "      <td>1990</td>\n",
       "      <td>MD</td>\n",
       "      <td>Age 50 through 59</td>\n",
       "      <td>Resp. Therapy Technician</td>\n",
       "      <td>...</td>\n",
       "      <td>NaN</td>\n",
       "      <td>NaN</td>\n",
       "      <td>22500</td>\n",
       "      <td>MO</td>\n",
       "      <td>1999</td>\n",
       "      <td>50</td>\n",
       "      <td>10</td>\n",
       "      <td>Treatment Related</td>\n",
       "      <td>22500</td>\n",
       "      <td>5</td>\n",
       "    </tr>\n",
       "  </tbody>\n",
       "</table>\n",
       "<p>5 rows × 22 columns</p>\n",
       "</div>"
      ],
      "text/plain": [
       "                                     allegation1 outcome_text  \\\n",
       "0                            Failure to Diagnose          NaN   \n",
       "1  Allegation – Not Otherwise Classified Specify          NaN   \n",
       "2                            Failure to Diagnose          NaN   \n",
       "3        Surgical or Other Foreign Body Retained          NaN   \n",
       "4                   Failure to Perform Procedure        Death   \n",
       "\n",
       "                                       pyrrltns_text homestat ptgender  \\\n",
       "0  Insurance Company (Legacy report RECTYPE = M p...      NaN      NaN   \n",
       "1  Insurance Company (Legacy report RECTYPE = M p...      NaN      NaN   \n",
       "2  Insurance Company (Legacy report RECTYPE = M p...       CT      NaN   \n",
       "3  Insurance Company (Legacy report RECTYPE = M p...      NaN      NaN   \n",
       "4  Self-Insured Organization (RECTYPE = P 1/31/20...       MO        M   \n",
       "\n",
       "  paytype  grad workstat         ptage_text              licnfeld_text  \\\n",
       "0       S  1970       AZ                NaN  Allopathic Physician (MD)   \n",
       "1       S  1940       TX                NaN  Allopathic Physician (MD)   \n",
       "2       U  1960       CT                NaN  Allopathic Physician (MD)   \n",
       "3       S  1960       NJ                NaN  Allopathic Physician (MD)   \n",
       "4       S  1990       MD  Age 50 through 59   Resp. Therapy Technician   \n",
       "\n",
       "    ...                                   allegation2  malyear2 payment  \\\n",
       "0   ...     Failure/Delay in Referral or Consultation      1996  195000   \n",
       "1   ...                                           NaN       NaN   12500   \n",
       "2   ...                                           NaN       NaN  185000   \n",
       "3   ...                                           NaN       NaN    1500   \n",
       "4   ...                                           NaN       NaN   22500   \n",
       "\n",
       "   licnstat  malyear1 ptage  practage       algnnatr_text  totalpmt serialid  \n",
       "0        AZ      1966   NaN        10   Diagnosis Related    195000        1  \n",
       "1        TX      1987   NaN        60  Medication Related     12500        2  \n",
       "2        CT      1984   NaN        10   Diagnosis Related    185000        3  \n",
       "3        NJ      1993   NaN        50     Surgery Related      1500        4  \n",
       "4        MO      1999    50        10   Treatment Related     22500        5  \n",
       "\n",
       "[5 rows x 22 columns]"
      ]
     },
     "execution_count": 22,
     "metadata": {},
     "output_type": "execute_result"
    }
   ],
   "source": [
    "# rename columns for clarity (not working yet)\n",
    "malp1.rename(columns={'alegatn1_text':'allegation1','alegatn2_text':'allegation2'},inplace=True)\n",
    "#malp1.columns.str.replace(\"alegatn1_text\", \"allegation1\")\n",
    "malp1.head()"
   ]
  },
  {
   "cell_type": "markdown",
   "metadata": {},
   "source": [
    "## Basic summary stats by column"
   ]
  },
  {
   "cell_type": "code",
   "execution_count": 26,
   "metadata": {
    "collapsed": false
   },
   "outputs": [
    {
     "data": {
      "text/plain": [
       "Allopathic Physician (MD)                         723\n",
       "Dentist                                           108\n",
       "Osteopathic Physician (DO)                         50\n",
       "Registered (RN) Nurse                              29\n",
       "Phys. Asst. Allopathic                             16\n",
       "Podiatrist                                         16\n",
       "Chiropractor                                       11\n",
       "Phys. Intern/Resident (MD)                         10\n",
       "Pharmacist                                          8\n",
       "Physical Therapist                                  7\n",
       "Nurse Practitioner                                  4\n",
       "Nurse Anesthetist                                   3\n",
       "Nurse Midwife                                       3\n",
       "Optometrist                                         2\n",
       "Clinical Psychologist [last use 9/9/02]             2\n",
       "Resp. Therapy Technician                            1\n",
       "Medical Technologist [changed to 501(6/15/09)]      1\n",
       "EMT Basic                                           1\n",
       "Medical Assistant                                   1\n",
       "Radiologic Technologist                             1\n",
       "LPN or Vocational Nurse                             1\n",
       "Name: licnfeld_text, dtype: int64"
      ]
     },
     "execution_count": 26,
     "metadata": {},
     "output_type": "execute_result"
    }
   ],
   "source": [
    "#malp1['ptage_text'].value_counts(dropna=False)\n",
    "dt['licnfeld_text'].value_counts(dropna=False)"
   ]
  },
  {
   "cell_type": "markdown",
   "metadata": {
    "collapsed": false
   },
   "source": [
    "## Let's clean the data"
   ]
  },
  {
   "cell_type": "code",
   "execution_count": 7,
   "metadata": {
    "collapsed": false
   },
   "outputs": [],
   "source": [
    "# - allegation code is important when available, e.g. failure to admit to hospital"
   ]
  },
  {
   "cell_type": "code",
   "execution_count": 40,
   "metadata": {
    "collapsed": false
   },
   "outputs": [
    {
     "name": "stdout",
     "output_type": "stream",
     "text": [
      "Missing state values:\n",
      "homestat    344914\n",
      "workstat    388370\n",
      "licnstat     61058\n",
      "dtype: int64\n",
      "Remaining missing values:  0\n"
     ]
    }
   ],
   "source": [
    "# analyze different states available\n",
    "print \"Missing state values:\\n\", malp1[['homestat','workstat','licnstat']].isnull().sum()\n",
    "# fill in missing data in this order\n",
    "# workstat, licnstat, homestat (pract.work state, licensed, home)\n",
    "nostate = malp1['workstat'].isnull()\n",
    "malp1.loc[nostate,'workstat'] = malp1.loc[nostate,'licnstat']\n",
    "nostate = malp1['workstat'].isnull()\n",
    "malp1.loc[nostate,'workstat'] = malp1.loc[nostate,'homestat']\n",
    "nostate = malp1['workstat'].isnull()\n",
    "malp1.loc[nostate,'workstat'] = 'NO' # last measure\n",
    "print \"Remaining missing values: \", malp1['workstat'].isnull().sum()"
   ]
  },
  {
   "cell_type": "code",
   "execution_count": 9,
   "metadata": {
    "collapsed": false
   },
   "outputs": [
    {
     "name": "stdout",
     "output_type": "stream",
     "text": [
      "Missing year:  0\n"
     ]
    }
   ],
   "source": [
    "# check the year data\n",
    "print \"Missing year: \",(malp1['origyear'].isnull().sum())\n",
    "#print \"Missing  pmt: \",(malp1['payment'].isnull().sum())\n",
    "#print \"Filling total pmt with 'payment'\"\n",
    "#malp1.totalpmt.fillna(malp1.payment,inplace=True)\n",
    "#print \"Missing total pmt: \",(malp1['totalpmt'].isnull().sum()), \"total:\", malp1['totalpmt'].sum()"
   ]
  },
  {
   "cell_type": "code",
   "execution_count": 10,
   "metadata": {
    "collapsed": false
   },
   "outputs": [
    {
     "data": {
      "text/html": [
       "<div>\n",
       "<table border=\"1\" class=\"dataframe\">\n",
       "  <thead>\n",
       "    <tr style=\"text-align: right;\">\n",
       "      <th></th>\n",
       "      <th>origyear</th>\n",
       "      <th>malyear1</th>\n",
       "      <th>malyear2</th>\n",
       "      <th>npmalrpt</th>\n",
       "      <th>grad</th>\n",
       "    </tr>\n",
       "  </thead>\n",
       "  <tbody>\n",
       "    <tr>\n",
       "      <th>0</th>\n",
       "      <td>2001</td>\n",
       "      <td>1966</td>\n",
       "      <td>1996</td>\n",
       "      <td>1</td>\n",
       "      <td>1970</td>\n",
       "    </tr>\n",
       "    <tr>\n",
       "      <th>1</th>\n",
       "      <td>1993</td>\n",
       "      <td>1987</td>\n",
       "      <td>NaN</td>\n",
       "      <td>1</td>\n",
       "      <td>1940</td>\n",
       "    </tr>\n",
       "    <tr>\n",
       "      <th>2</th>\n",
       "      <td>1991</td>\n",
       "      <td>1984</td>\n",
       "      <td>NaN</td>\n",
       "      <td>1</td>\n",
       "      <td>1960</td>\n",
       "    </tr>\n",
       "    <tr>\n",
       "      <th>3</th>\n",
       "      <td>1995</td>\n",
       "      <td>1993</td>\n",
       "      <td>NaN</td>\n",
       "      <td>4</td>\n",
       "      <td>1960</td>\n",
       "    </tr>\n",
       "    <tr>\n",
       "      <th>4</th>\n",
       "      <td>2010</td>\n",
       "      <td>1999</td>\n",
       "      <td>NaN</td>\n",
       "      <td>1</td>\n",
       "      <td>1990</td>\n",
       "    </tr>\n",
       "  </tbody>\n",
       "</table>\n",
       "</div>"
      ],
      "text/plain": [
       "   origyear  malyear1  malyear2  npmalrpt  grad\n",
       "0      2001      1966      1996         1  1970\n",
       "1      1993      1987       NaN         1  1940\n",
       "2      1991      1984       NaN         1  1960\n",
       "3      1995      1993       NaN         4  1960\n",
       "4      2010      1999       NaN         1  1990"
      ]
     },
     "execution_count": 10,
     "metadata": {},
     "output_type": "execute_result"
    }
   ],
   "source": [
    "malp1[['origyear','malyear1','malyear2', 'npmalrpt', 'grad']].head()"
   ]
  },
  {
   "cell_type": "code",
   "execution_count": 11,
   "metadata": {
    "collapsed": false
   },
   "outputs": [
    {
     "data": {
      "text/html": [
       "<div>\n",
       "<table border=\"1\" class=\"dataframe\">\n",
       "  <thead>\n",
       "    <tr style=\"text-align: right;\">\n",
       "      <th></th>\n",
       "      <th>payment</th>\n",
       "      <th>totalpmt</th>\n",
       "    </tr>\n",
       "  </thead>\n",
       "  <tbody>\n",
       "    <tr>\n",
       "      <th>0</th>\n",
       "      <td>195000</td>\n",
       "      <td>NaN</td>\n",
       "    </tr>\n",
       "    <tr>\n",
       "      <th>1</th>\n",
       "      <td>12500</td>\n",
       "      <td>NaN</td>\n",
       "    </tr>\n",
       "    <tr>\n",
       "      <th>2</th>\n",
       "      <td>185000</td>\n",
       "      <td>NaN</td>\n",
       "    </tr>\n",
       "    <tr>\n",
       "      <th>3</th>\n",
       "      <td>1500</td>\n",
       "      <td>NaN</td>\n",
       "    </tr>\n",
       "    <tr>\n",
       "      <th>4</th>\n",
       "      <td>22500</td>\n",
       "      <td>22500</td>\n",
       "    </tr>\n",
       "  </tbody>\n",
       "</table>\n",
       "</div>"
      ],
      "text/plain": [
       "   payment  totalpmt\n",
       "0   195000       NaN\n",
       "1    12500       NaN\n",
       "2   185000       NaN\n",
       "3     1500       NaN\n",
       "4    22500     22500"
      ]
     },
     "execution_count": 11,
     "metadata": {},
     "output_type": "execute_result"
    }
   ],
   "source": [
    "malp1[['payment','totalpmt']].head()"
   ]
  },
  {
   "cell_type": "code",
   "execution_count": 41,
   "metadata": {
    "collapsed": false
   },
   "outputs": [
    {
     "name": "stdout",
     "output_type": "stream",
     "text": [
      "Missing total pmt:  775250 total: 35564936700.0\n",
      "Missing  pmt:  524584\n",
      "Filling total pmt with 'payment'\n",
      "Missing total pmt:  524584 total: 82424951250.0\n"
     ]
    }
   ],
   "source": [
    "# fix the payment data\n",
    "print \"Missing total pmt: \",(malp1['totalpmt'].isnull().sum()), \"total:\", malp1['totalpmt'].sum()\n",
    "print \"Missing  pmt: \",(malp1['payment'].isnull().sum())\n",
    "print \"Filling total pmt with 'payment'\"\n",
    "malp1.totalpmt.fillna(malp1.payment,inplace=True)\n",
    "print \"Missing total pmt: \",(malp1['totalpmt'].isnull().sum()), \"total:\", malp1['totalpmt'].sum()"
   ]
  },
  {
   "cell_type": "code",
   "execution_count": 42,
   "metadata": {
    "collapsed": false
   },
   "outputs": [
    {
     "data": {
      "text/html": [
       "<div>\n",
       "<table border=\"1\" class=\"dataframe\">\n",
       "  <thead>\n",
       "    <tr style=\"text-align: right;\">\n",
       "      <th></th>\n",
       "      <th>origyear</th>\n",
       "      <th>sum</th>\n",
       "      <th>count</th>\n",
       "      <th>min</th>\n",
       "      <th>max</th>\n",
       "    </tr>\n",
       "  </thead>\n",
       "  <tbody>\n",
       "    <tr>\n",
       "      <th>0</th>\n",
       "      <td>1990</td>\n",
       "      <td>336745850</td>\n",
       "      <td>2856</td>\n",
       "      <td>50</td>\n",
       "      <td>4450000</td>\n",
       "    </tr>\n",
       "    <tr>\n",
       "      <th>1</th>\n",
       "      <td>1991</td>\n",
       "      <td>2320687700</td>\n",
       "      <td>17960</td>\n",
       "      <td>50</td>\n",
       "      <td>5250000</td>\n",
       "    </tr>\n",
       "    <tr>\n",
       "      <th>2</th>\n",
       "      <td>1992</td>\n",
       "      <td>2764114150</td>\n",
       "      <td>19758</td>\n",
       "      <td>50</td>\n",
       "      <td>13500000</td>\n",
       "    </tr>\n",
       "    <tr>\n",
       "      <th>3</th>\n",
       "      <td>1993</td>\n",
       "      <td>2886276450</td>\n",
       "      <td>19402</td>\n",
       "      <td>50</td>\n",
       "      <td>18500000</td>\n",
       "    </tr>\n",
       "    <tr>\n",
       "      <th>4</th>\n",
       "      <td>1994</td>\n",
       "      <td>3000798600</td>\n",
       "      <td>19614</td>\n",
       "      <td>50</td>\n",
       "      <td>12500000</td>\n",
       "    </tr>\n",
       "    <tr>\n",
       "      <th>5</th>\n",
       "      <td>1995</td>\n",
       "      <td>2922797500</td>\n",
       "      <td>17905</td>\n",
       "      <td>50</td>\n",
       "      <td>9350000</td>\n",
       "    </tr>\n",
       "    <tr>\n",
       "      <th>6</th>\n",
       "      <td>1996</td>\n",
       "      <td>3414540100</td>\n",
       "      <td>19143</td>\n",
       "      <td>50</td>\n",
       "      <td>7350000</td>\n",
       "    </tr>\n",
       "    <tr>\n",
       "      <th>7</th>\n",
       "      <td>1997</td>\n",
       "      <td>3337433100</td>\n",
       "      <td>18191</td>\n",
       "      <td>50</td>\n",
       "      <td>15500000</td>\n",
       "    </tr>\n",
       "    <tr>\n",
       "      <th>8</th>\n",
       "      <td>1998</td>\n",
       "      <td>3304179650</td>\n",
       "      <td>17498</td>\n",
       "      <td>50</td>\n",
       "      <td>10500000</td>\n",
       "    </tr>\n",
       "    <tr>\n",
       "      <th>9</th>\n",
       "      <td>1999</td>\n",
       "      <td>3629051350</td>\n",
       "      <td>18788</td>\n",
       "      <td>50</td>\n",
       "      <td>16500000</td>\n",
       "    </tr>\n",
       "    <tr>\n",
       "      <th>10</th>\n",
       "      <td>2000</td>\n",
       "      <td>4115237350</td>\n",
       "      <td>19248</td>\n",
       "      <td>50</td>\n",
       "      <td>9750000</td>\n",
       "    </tr>\n",
       "    <tr>\n",
       "      <th>11</th>\n",
       "      <td>2001</td>\n",
       "      <td>4822075050</td>\n",
       "      <td>20415</td>\n",
       "      <td>50</td>\n",
       "      <td>22500000</td>\n",
       "    </tr>\n",
       "    <tr>\n",
       "      <th>12</th>\n",
       "      <td>2002</td>\n",
       "      <td>4487482900</td>\n",
       "      <td>18862</td>\n",
       "      <td>50</td>\n",
       "      <td>13500000</td>\n",
       "    </tr>\n",
       "    <tr>\n",
       "      <th>13</th>\n",
       "      <td>2003</td>\n",
       "      <td>4846816150</td>\n",
       "      <td>18922</td>\n",
       "      <td>50</td>\n",
       "      <td>11500000</td>\n",
       "    </tr>\n",
       "    <tr>\n",
       "      <th>14</th>\n",
       "      <td>2004</td>\n",
       "      <td>4854025000</td>\n",
       "      <td>17643</td>\n",
       "      <td>50</td>\n",
       "      <td>27500000</td>\n",
       "    </tr>\n",
       "    <tr>\n",
       "      <th>15</th>\n",
       "      <td>2005</td>\n",
       "      <td>4693441100</td>\n",
       "      <td>17243</td>\n",
       "      <td>50</td>\n",
       "      <td>22500000</td>\n",
       "    </tr>\n",
       "    <tr>\n",
       "      <th>16</th>\n",
       "      <td>2006</td>\n",
       "      <td>4502392600</td>\n",
       "      <td>15788</td>\n",
       "      <td>50</td>\n",
       "      <td>16500000</td>\n",
       "    </tr>\n",
       "    <tr>\n",
       "      <th>17</th>\n",
       "      <td>2007</td>\n",
       "      <td>4246850000</td>\n",
       "      <td>14488</td>\n",
       "      <td>50</td>\n",
       "      <td>14500000</td>\n",
       "    </tr>\n",
       "    <tr>\n",
       "      <th>18</th>\n",
       "      <td>2008</td>\n",
       "      <td>4193403850</td>\n",
       "      <td>14114</td>\n",
       "      <td>50</td>\n",
       "      <td>15500000</td>\n",
       "    </tr>\n",
       "    <tr>\n",
       "      <th>19</th>\n",
       "      <td>2009</td>\n",
       "      <td>4073909450</td>\n",
       "      <td>13857</td>\n",
       "      <td>50</td>\n",
       "      <td>18500000</td>\n",
       "    </tr>\n",
       "    <tr>\n",
       "      <th>20</th>\n",
       "      <td>2010</td>\n",
       "      <td>3855145900</td>\n",
       "      <td>13239</td>\n",
       "      <td>50</td>\n",
       "      <td>22500000</td>\n",
       "    </tr>\n",
       "    <tr>\n",
       "      <th>21</th>\n",
       "      <td>2011</td>\n",
       "      <td>3841899100</td>\n",
       "      <td>12879</td>\n",
       "      <td>50</td>\n",
       "      <td>16500000</td>\n",
       "    </tr>\n",
       "    <tr>\n",
       "      <th>22</th>\n",
       "      <td>2012</td>\n",
       "      <td>1975648350</td>\n",
       "      <td>6504</td>\n",
       "      <td>50</td>\n",
       "      <td>14500000</td>\n",
       "    </tr>\n",
       "  </tbody>\n",
       "</table>\n",
       "</div>"
      ],
      "text/plain": [
       "    origyear         sum  count  min       max\n",
       "0       1990   336745850   2856   50   4450000\n",
       "1       1991  2320687700  17960   50   5250000\n",
       "2       1992  2764114150  19758   50  13500000\n",
       "3       1993  2886276450  19402   50  18500000\n",
       "4       1994  3000798600  19614   50  12500000\n",
       "5       1995  2922797500  17905   50   9350000\n",
       "6       1996  3414540100  19143   50   7350000\n",
       "7       1997  3337433100  18191   50  15500000\n",
       "8       1998  3304179650  17498   50  10500000\n",
       "9       1999  3629051350  18788   50  16500000\n",
       "10      2000  4115237350  19248   50   9750000\n",
       "11      2001  4822075050  20415   50  22500000\n",
       "12      2002  4487482900  18862   50  13500000\n",
       "13      2003  4846816150  18922   50  11500000\n",
       "14      2004  4854025000  17643   50  27500000\n",
       "15      2005  4693441100  17243   50  22500000\n",
       "16      2006  4502392600  15788   50  16500000\n",
       "17      2007  4246850000  14488   50  14500000\n",
       "18      2008  4193403850  14114   50  15500000\n",
       "19      2009  4073909450  13857   50  18500000\n",
       "20      2010  3855145900  13239   50  22500000\n",
       "21      2011  3841899100  12879   50  16500000\n",
       "22      2012  1975648350   6504   50  14500000"
      ]
     },
     "execution_count": 42,
     "metadata": {},
     "output_type": "execute_result"
    }
   ],
   "source": [
    "\n",
    "# create summary a table by year. reset numeric index\n",
    "pmtByYear = malp1.groupby('origyear')['totalpmt'].agg(['sum', 'count','min','max']).reset_index()\n",
    "pmtByYear"
   ]
  },
  {
   "cell_type": "markdown",
   "metadata": {},
   "source": [
    "## Simple visualizations using Seaborn "
   ]
  },
  {
   "cell_type": "code",
   "execution_count": 14,
   "metadata": {
    "collapsed": false
   },
   "outputs": [
    {
     "name": "stderr",
     "output_type": "stream",
     "text": [
      "//anaconda/lib/python2.7/site-packages/matplotlib/__init__.py:872: UserWarning: axes.color_cycle is deprecated and replaced with axes.prop_cycle; please use the latter.\n",
      "  warnings.warn(self.msg_depr % (key, alt_key))\n"
     ]
    }
   ],
   "source": [
    "%matplotlib inline\n",
    "import matplotlib.pyplot as plt\n",
    "import seaborn as sns"
   ]
  },
  {
   "cell_type": "code",
   "execution_count": 43,
   "metadata": {
    "collapsed": false
   },
   "outputs": [
    {
     "name": "stdout",
     "output_type": "stream",
     "text": [
      "Plot of payments by year\n"
     ]
    },
    {
     "data": {
      "image/png": "[encoded data removed]",
      "text/plain": [
       "<matplotlib.figure.Figure at 0x109655710>"
      ]
     },
     "metadata": {},
     "output_type": "display_data"
    }
   ],
   "source": [
    "print \"Plot of payments by year\"\n",
    "sns.barplot(x=\"origyear\", y=\"totalpmt\", data=malp1);"
   ]
  },
  {
   "cell_type": "code",
   "execution_count": 46,
   "metadata": {
    "collapsed": false
   },
   "outputs": [
    {
     "ename": "AttributeError",
     "evalue": "max must be larger than min in range parameter.",
     "output_type": "error",
     "traceback": [
      "\u001b[0;31m---------------------------------------------------------------------------\u001b[0m",
      "\u001b[0;31mAttributeError\u001b[0m                            Traceback (most recent call last)",
      "\u001b[0;32m<ipython-input-46-9245acf59825>\u001b[0m in \u001b[0;36m<module>\u001b[0;34m()\u001b[0m\n\u001b[0;32m----> 1\u001b[0;31m \u001b[0msns\u001b[0m\u001b[0;34m.\u001b[0m\u001b[0mdistplot\u001b[0m\u001b[0;34m(\u001b[0m\u001b[0mmalp1\u001b[0m\u001b[0;34m[\u001b[0m\u001b[0;34m'totalpmt'\u001b[0m\u001b[0;34m]\u001b[0m\u001b[0;34m,\u001b[0m\u001b[0mkde\u001b[0m\u001b[0;34m=\u001b[0m\u001b[0mFalse\u001b[0m\u001b[0;34m)\u001b[0m\u001b[0;34m\u001b[0m\u001b[0m\n\u001b[0m",
      "\u001b[0;32m//anaconda/lib/python2.7/site-packages/seaborn/distributions.pyc\u001b[0m in \u001b[0;36mdistplot\u001b[0;34m(a, bins, hist, kde, rug, fit, hist_kws, kde_kws, rug_kws, fit_kws, color, vertical, norm_hist, axlabel, label, ax)\u001b[0m\n\u001b[1;32m    210\u001b[0m         \u001b[0mhist_color\u001b[0m \u001b[0;34m=\u001b[0m \u001b[0mhist_kws\u001b[0m\u001b[0;34m.\u001b[0m\u001b[0mpop\u001b[0m\u001b[0;34m(\u001b[0m\u001b[0;34m\"color\"\u001b[0m\u001b[0;34m,\u001b[0m \u001b[0mcolor\u001b[0m\u001b[0;34m)\u001b[0m\u001b[0;34m\u001b[0m\u001b[0m\n\u001b[1;32m    211\u001b[0m         ax.hist(a, bins, orientation=orientation,\n\u001b[0;32m--> 212\u001b[0;31m                 color=hist_color, **hist_kws)\n\u001b[0m\u001b[1;32m    213\u001b[0m         \u001b[0;32mif\u001b[0m \u001b[0mhist_color\u001b[0m \u001b[0;34m!=\u001b[0m \u001b[0mcolor\u001b[0m\u001b[0;34m:\u001b[0m\u001b[0;34m\u001b[0m\u001b[0m\n\u001b[1;32m    214\u001b[0m             \u001b[0mhist_kws\u001b[0m\u001b[0;34m[\u001b[0m\u001b[0;34m\"color\"\u001b[0m\u001b[0;34m]\u001b[0m \u001b[0;34m=\u001b[0m \u001b[0mhist_color\u001b[0m\u001b[0;34m\u001b[0m\u001b[0m\n",
      "\u001b[0;32m//anaconda/lib/python2.7/site-packages/matplotlib/__init__.pyc\u001b[0m in \u001b[0;36minner\u001b[0;34m(ax, *args, **kwargs)\u001b[0m\n\u001b[1;32m   1809\u001b[0m                     warnings.warn(msg % (label_namer, func.__name__),\n\u001b[1;32m   1810\u001b[0m                                   RuntimeWarning, stacklevel=2)\n\u001b[0;32m-> 1811\u001b[0;31m             \u001b[0;32mreturn\u001b[0m \u001b[0mfunc\u001b[0m\u001b[0;34m(\u001b[0m\u001b[0max\u001b[0m\u001b[0;34m,\u001b[0m \u001b[0;34m*\u001b[0m\u001b[0margs\u001b[0m\u001b[0;34m,\u001b[0m \u001b[0;34m**\u001b[0m\u001b[0mkwargs\u001b[0m\u001b[0;34m)\u001b[0m\u001b[0;34m\u001b[0m\u001b[0m\n\u001b[0m\u001b[1;32m   1812\u001b[0m         \u001b[0mpre_doc\u001b[0m \u001b[0;34m=\u001b[0m \u001b[0minner\u001b[0m\u001b[0;34m.\u001b[0m\u001b[0m__doc__\u001b[0m\u001b[0;34m\u001b[0m\u001b[0m\n\u001b[1;32m   1813\u001b[0m         \u001b[0;32mif\u001b[0m \u001b[0mpre_doc\u001b[0m \u001b[0;32mis\u001b[0m \u001b[0mNone\u001b[0m\u001b[0;34m:\u001b[0m\u001b[0;34m\u001b[0m\u001b[0m\n",
      "\u001b[0;32m//anaconda/lib/python2.7/site-packages/matplotlib/axes/_axes.pyc\u001b[0m in \u001b[0;36mhist\u001b[0;34m(self, x, bins, range, normed, weights, cumulative, bottom, histtype, align, orientation, rwidth, log, color, label, stacked, **kwargs)\u001b[0m\n\u001b[1;32m   5993\u001b[0m             \u001b[0;31m# this will automatically overwrite bins,\u001b[0m\u001b[0;34m\u001b[0m\u001b[0;34m\u001b[0m\u001b[0m\n\u001b[1;32m   5994\u001b[0m             \u001b[0;31m# so that each histogram uses the same bins\u001b[0m\u001b[0;34m\u001b[0m\u001b[0;34m\u001b[0m\u001b[0m\n\u001b[0;32m-> 5995\u001b[0;31m             \u001b[0mm\u001b[0m\u001b[0;34m,\u001b[0m \u001b[0mbins\u001b[0m \u001b[0;34m=\u001b[0m \u001b[0mnp\u001b[0m\u001b[0;34m.\u001b[0m\u001b[0mhistogram\u001b[0m\u001b[0;34m(\u001b[0m\u001b[0mx\u001b[0m\u001b[0;34m[\u001b[0m\u001b[0mi\u001b[0m\u001b[0;34m]\u001b[0m\u001b[0;34m,\u001b[0m \u001b[0mbins\u001b[0m\u001b[0;34m,\u001b[0m \u001b[0mweights\u001b[0m\u001b[0;34m=\u001b[0m\u001b[0mw\u001b[0m\u001b[0;34m[\u001b[0m\u001b[0mi\u001b[0m\u001b[0;34m]\u001b[0m\u001b[0;34m,\u001b[0m \u001b[0;34m**\u001b[0m\u001b[0mhist_kwargs\u001b[0m\u001b[0;34m)\u001b[0m\u001b[0;34m\u001b[0m\u001b[0m\n\u001b[0m\u001b[1;32m   5996\u001b[0m             \u001b[0mm\u001b[0m \u001b[0;34m=\u001b[0m \u001b[0mm\u001b[0m\u001b[0;34m.\u001b[0m\u001b[0mastype\u001b[0m\u001b[0;34m(\u001b[0m\u001b[0mfloat\u001b[0m\u001b[0;34m)\u001b[0m  \u001b[0;31m# causes problems later if it's an int\u001b[0m\u001b[0;34m\u001b[0m\u001b[0m\n\u001b[1;32m   5997\u001b[0m             \u001b[0;32mif\u001b[0m \u001b[0mmlast\u001b[0m \u001b[0;32mis\u001b[0m \u001b[0mNone\u001b[0m\u001b[0;34m:\u001b[0m\u001b[0;34m\u001b[0m\u001b[0m\n",
      "\u001b[0;32m//anaconda/lib/python2.7/site-packages/numpy/lib/function_base.pyc\u001b[0m in \u001b[0;36mhistogram\u001b[0;34m(a, bins, range, normed, weights, density)\u001b[0m\n\u001b[1;32m    174\u001b[0m         \u001b[0;32mif\u001b[0m \u001b[0;34m(\u001b[0m\u001b[0mmn\u001b[0m \u001b[0;34m>\u001b[0m \u001b[0mmx\u001b[0m\u001b[0;34m)\u001b[0m\u001b[0;34m:\u001b[0m\u001b[0;34m\u001b[0m\u001b[0m\n\u001b[1;32m    175\u001b[0m             raise AttributeError(\n\u001b[0;32m--> 176\u001b[0;31m                 'max must be larger than min in range parameter.')\n\u001b[0m\u001b[1;32m    177\u001b[0m \u001b[0;34m\u001b[0m\u001b[0m\n\u001b[1;32m    178\u001b[0m     \u001b[0;31m# Histogram is an integer or a float array depending on the weights.\u001b[0m\u001b[0;34m\u001b[0m\u001b[0;34m\u001b[0m\u001b[0m\n",
      "\u001b[0;31mAttributeError\u001b[0m: max must be larger than min in range parameter."
     ]
    },
    {
     "data": {
      "image/png": "[encoded data removed]",
      "text/plain": [
       "<matplotlib.figure.Figure at 0x10c96e950>"
      ]
     },
     "metadata": {},
     "output_type": "display_data"
    }
   ],
   "source": [
    "sns.distplot(malp1['totalpmt'],kde=False)\n"
   ]
  },
  {
   "cell_type": "code",
   "execution_count": 47,
   "metadata": {
    "collapsed": false
   },
   "outputs": [
    {
     "name": "stdout",
     "output_type": "stream",
     "text": [
      "Plot of payments by year\n"
     ]
    },
    {
     "data": {
      "image/png": "[encoded data removed]",
      "text/plain": [
       "<matplotlib.figure.Figure at 0x10c9d9050>"
      ]
     },
     "metadata": {},
     "output_type": "display_data"
    }
   ],
   "source": [
    "print \"Plot of payments by year\"\n",
    "sns.jointplot(x=\"origyear\", y=\"sum\", data=pmtByYear);"
   ]
  },
  {
   "cell_type": "code",
   "execution_count": 44,
   "metadata": {
    "collapsed": false
   },
   "outputs": [
    {
     "name": "stdout",
     "output_type": "stream",
     "text": [
      "Plot of payments by state\n"
     ]
    },
    {
     "data": {
      "image/png": "[encoded data removed]",
      "text/plain": [
       "<matplotlib.figure.Figure at 0x10999eb90>"
      ]
     },
     "metadata": {},
     "output_type": "display_data"
    }
   ],
   "source": [
    "print \"Plot of payments by state\"\n",
    "sns.barplot(x=\"workstat\", y=\"totalpmt\", data=malp1);"
   ]
  }
 ],
 "metadata": {
  "kernelspec": {
   "display_name": "Python 2",
   "language": "python",
   "name": "python2"
  },
  "language_info": {
   "codemirror_mode": {
    "name": "ipython",
    "version": 2
   },
   "file_extension": ".py",
   "mimetype": "text/x-python",
   "name": "python",
   "nbconvert_exporter": "python",
   "pygments_lexer": "ipython2",
   "version": "2.7.10"
  }
 },
 "nbformat": 4,
 "nbformat_minor": 0
}
